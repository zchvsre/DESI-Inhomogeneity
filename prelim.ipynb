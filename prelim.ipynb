{
 "cells": [
  {
   "cell_type": "code",
   "execution_count": 2,
   "metadata": {},
   "outputs": [],
   "source": [
    "import desitarget"
   ]
  },
  {
   "cell_type": "code",
   "execution_count": 7,
   "metadata": {},
   "outputs": [],
   "source": [
    "import fitsio\n",
    "from astropy.io import fits\n",
    "from astropy.table import Table"
   ]
  },
  {
   "cell_type": "code",
   "execution_count": 13,
   "metadata": {},
   "outputs": [],
   "source": [
    "data_dir='/global/homes/z/zchusre/work/DESI/DESI-Inhomogeneity/data/'"
   ]
  },
  {
   "cell_type": "code",
   "execution_count": 14,
   "metadata": {},
   "outputs": [],
   "source": [
    "eg_target_list_path=data_dir+\"targets-dark.fits\""
   ]
  },
  {
   "cell_type": "code",
   "execution_count": 17,
   "metadata": {},
   "outputs": [
    {
     "name": "stdout",
     "output_type": "stream",
     "text": [
      "Filename: /global/homes/z/zchusre/work/DESI/DESI-Inhomogeneity/data/targets-dark.fits\n",
      "No.    Name      Ver    Type      Cards   Dimensions   Format\n",
      "  0  PRIMARY       1 PrimaryHDU       6   ()      \n",
      "  1  TARGETS       1 BinTableHDU    432   1806081R x 105C   [I, J, 8A, J, 4A, D, D, E, E, 5E, E, E, E, E, E, E, E, E, E, E, E, E, E, E, E, E, E, E, E, E, E, I, I, I, E, E, E, E, E, E, E, E, E, E, E, E, B, B, E, E, E, E, E, E, E, E, E, E, E, E, E, E, E, E, E, E, E, E, E, E, E, E, E, E, 2A, K, E, E, E, E, E, E, E, E, K, E, L, E, E, E, E, E, E, I, E, 1A, K, K, K, K, D, K, K, K, K]   \n"
     ]
    }
   ],
   "source": [
    "fits.info(eg_target_list_path)"
   ]
  },
  {
   "cell_type": "code",
   "execution_count": 26,
   "metadata": {},
   "outputs": [],
   "source": [
    "eg_target_list_data=fits.open(eg_target_list_path)[1].data"
   ]
  },
  {
   "cell_type": "code",
   "execution_count": 28,
   "metadata": {},
   "outputs": [
    {
     "data": {
      "text/plain": [
       "ColDefs(\n",
       "    name = 'RELEASE'; format = 'I'\n",
       "    name = 'BRICKID'; format = 'J'\n",
       "    name = 'BRICKNAME'; format = '8A'\n",
       "    name = 'BRICK_OBJID'; format = 'J'\n",
       "    name = 'MORPHTYPE'; format = '4A'\n",
       "    name = 'RA'; format = 'D'\n",
       "    name = 'DEC'; format = 'D'\n",
       "    name = 'RA_IVAR'; format = 'E'\n",
       "    name = 'DEC_IVAR'; format = 'E'\n",
       "    name = 'DCHISQ'; format = '5E'\n",
       "    name = 'FLUX_G'; format = 'E'\n",
       "    name = 'FLUX_R'; format = 'E'\n",
       "    name = 'FLUX_Z'; format = 'E'\n",
       "    name = 'FLUX_W1'; format = 'E'\n",
       "    name = 'FLUX_W2'; format = 'E'\n",
       "    name = 'FLUX_W3'; format = 'E'\n",
       "    name = 'FLUX_W4'; format = 'E'\n",
       "    name = 'FLUX_IVAR_G'; format = 'E'\n",
       "    name = 'FLUX_IVAR_R'; format = 'E'\n",
       "    name = 'FLUX_IVAR_Z'; format = 'E'\n",
       "    name = 'FLUX_IVAR_W1'; format = 'E'\n",
       "    name = 'FLUX_IVAR_W2'; format = 'E'\n",
       "    name = 'FLUX_IVAR_W3'; format = 'E'\n",
       "    name = 'FLUX_IVAR_W4'; format = 'E'\n",
       "    name = 'MW_TRANSMISSION_G'; format = 'E'\n",
       "    name = 'MW_TRANSMISSION_R'; format = 'E'\n",
       "    name = 'MW_TRANSMISSION_Z'; format = 'E'\n",
       "    name = 'MW_TRANSMISSION_W1'; format = 'E'\n",
       "    name = 'MW_TRANSMISSION_W2'; format = 'E'\n",
       "    name = 'MW_TRANSMISSION_W3'; format = 'E'\n",
       "    name = 'MW_TRANSMISSION_W4'; format = 'E'\n",
       "    name = 'NOBS_G'; format = 'I'\n",
       "    name = 'NOBS_R'; format = 'I'\n",
       "    name = 'NOBS_Z'; format = 'I'\n",
       "    name = 'FRACFLUX_G'; format = 'E'\n",
       "    name = 'FRACFLUX_R'; format = 'E'\n",
       "    name = 'FRACFLUX_Z'; format = 'E'\n",
       "    name = 'FRACMASKED_G'; format = 'E'\n",
       "    name = 'FRACMASKED_R'; format = 'E'\n",
       "    name = 'FRACMASKED_Z'; format = 'E'\n",
       "    name = 'FRACIN_G'; format = 'E'\n",
       "    name = 'FRACIN_R'; format = 'E'\n",
       "    name = 'FRACIN_Z'; format = 'E'\n",
       "    name = 'ALLMASK_G'; format = 'E'\n",
       "    name = 'ALLMASK_R'; format = 'E'\n",
       "    name = 'ALLMASK_Z'; format = 'E'\n",
       "    name = 'WISEMASK_W1'; format = 'B'\n",
       "    name = 'WISEMASK_W2'; format = 'B'\n",
       "    name = 'PSFDEPTH_G'; format = 'E'\n",
       "    name = 'PSFDEPTH_R'; format = 'E'\n",
       "    name = 'PSFDEPTH_Z'; format = 'E'\n",
       "    name = 'GALDEPTH_G'; format = 'E'\n",
       "    name = 'GALDEPTH_R'; format = 'E'\n",
       "    name = 'GALDEPTH_Z'; format = 'E'\n",
       "    name = 'FRACDEV'; format = 'E'\n",
       "    name = 'FRACDEV_IVAR'; format = 'E'\n",
       "    name = 'SHAPEDEV_R'; format = 'E'\n",
       "    name = 'SHAPEDEV_R_IVAR'; format = 'E'\n",
       "    name = 'SHAPEDEV_E1'; format = 'E'\n",
       "    name = 'SHAPEDEV_E1_IVAR'; format = 'E'\n",
       "    name = 'SHAPEDEV_E2'; format = 'E'\n",
       "    name = 'SHAPEDEV_E2_IVAR'; format = 'E'\n",
       "    name = 'SHAPEEXP_R'; format = 'E'\n",
       "    name = 'SHAPEEXP_R_IVAR'; format = 'E'\n",
       "    name = 'SHAPEEXP_E1'; format = 'E'\n",
       "    name = 'SHAPEEXP_E1_IVAR'; format = 'E'\n",
       "    name = 'SHAPEEXP_E2'; format = 'E'\n",
       "    name = 'SHAPEEXP_E2_IVAR'; format = 'E'\n",
       "    name = 'FIBERFLUX_G'; format = 'E'\n",
       "    name = 'FIBERFLUX_R'; format = 'E'\n",
       "    name = 'FIBERFLUX_Z'; format = 'E'\n",
       "    name = 'FIBERTOTFLUX_G'; format = 'E'\n",
       "    name = 'FIBERTOTFLUX_R'; format = 'E'\n",
       "    name = 'FIBERTOTFLUX_Z'; format = 'E'\n",
       "    name = 'REF_CAT'; format = '2A'\n",
       "    name = 'REF_ID'; format = 'K'\n",
       "    name = 'GAIA_PHOT_G_MEAN_MAG'; format = 'E'\n",
       "    name = 'GAIA_PHOT_G_MEAN_FLUX_OVER_ERROR'; format = 'E'\n",
       "    name = 'GAIA_PHOT_BP_MEAN_MAG'; format = 'E'\n",
       "    name = 'GAIA_PHOT_BP_MEAN_FLUX_OVER_ERROR'; format = 'E'\n",
       "    name = 'GAIA_PHOT_RP_MEAN_MAG'; format = 'E'\n",
       "    name = 'GAIA_PHOT_RP_MEAN_FLUX_OVER_ERROR'; format = 'E'\n",
       "    name = 'GAIA_PHOT_BP_RP_EXCESS_FACTOR'; format = 'E'\n",
       "    name = 'GAIA_ASTROMETRIC_SIGMA5D_MAX'; format = 'E'\n",
       "    name = 'GAIA_ASTROMETRIC_PARAMS_SOLVED'; format = 'K'\n",
       "    name = 'GAIA_ASTROMETRIC_EXCESS_NOISE'; format = 'E'\n",
       "    name = 'GAIA_DUPLICATED_SOURCE'; format = 'L'\n",
       "    name = 'PARALLAX'; format = 'E'\n",
       "    name = 'PARALLAX_IVAR'; format = 'E'\n",
       "    name = 'PMRA'; format = 'E'\n",
       "    name = 'PMRA_IVAR'; format = 'E'\n",
       "    name = 'PMDEC'; format = 'E'\n",
       "    name = 'PMDEC_IVAR'; format = 'E'\n",
       "    name = 'MASKBITS'; format = 'I'\n",
       "    name = 'EBV'; format = 'E'\n",
       "    name = 'PHOTSYS'; format = '1A'\n",
       "    name = 'TARGETID'; format = 'K'\n",
       "    name = 'DESI_TARGET'; format = 'K'\n",
       "    name = 'BGS_TARGET'; format = 'K'\n",
       "    name = 'MWS_TARGET'; format = 'K'\n",
       "    name = 'SUBPRIORITY'; format = 'D'\n",
       "    name = 'OBSCONDITIONS'; format = 'K'\n",
       "    name = 'PRIORITY_INIT'; format = 'K'\n",
       "    name = 'NUMOBS_INIT'; format = 'K'\n",
       "    name = 'HPXPIXEL'; format = 'K'\n",
       ")"
      ]
     },
     "execution_count": 28,
     "metadata": {},
     "output_type": "execute_result"
    }
   ],
   "source": [
    "eg_target_list_data.columns"
   ]
  },
  {
   "cell_type": "code",
   "execution_count": 29,
   "metadata": {},
   "outputs": [
    {
     "name": "stderr",
     "output_type": "stream",
     "text": [
      "/global/common/software/desi/cori/desiconda/20190804-1.3.0-spec/conda/lib/python3.6/site-packages/matplotlib/font_manager.py:281: UserWarning: Matplotlib is building the font cache using fc-list. This may take a moment.\n",
      "  'Matplotlib is building the font cache using fc-list. '\n"
     ]
    }
   ],
   "source": [
    "import desitarget.mock.mockmaker"
   ]
  },
  {
   "cell_type": "code",
   "execution_count": null,
   "metadata": {},
   "outputs": [],
   "source": []
  }
 ],
 "metadata": {
  "kernelspec": {
   "display_name": "DESI 20.4",
   "language": "python",
   "name": "desi-20.4"
  },
  "language_info": {
   "codemirror_mode": {
    "name": "ipython",
    "version": 3
   },
   "file_extension": ".py",
   "mimetype": "text/x-python",
   "name": "python",
   "nbconvert_exporter": "python",
   "pygments_lexer": "ipython3",
   "version": "3.6.6"
  }
 },
 "nbformat": 4,
 "nbformat_minor": 4
}
